{
  "nbformat": 4,
  "nbformat_minor": 0,
  "metadata": {
    "kernelspec": {
      "display_name": "Python 3",
      "language": "python",
      "name": "python3"
    },
    "language_info": {
      "codemirror_mode": {
        "name": "ipython",
        "version": 3
      },
      "file_extension": ".py",
      "mimetype": "text/x-python",
      "name": "python",
      "nbconvert_exporter": "python",
      "pygments_lexer": "ipython3",
      "version": "3.8.3"
    },
    "colab": {
      "name": "Notebook_00.ipynb",
      "provenance": [],
      "collapsed_sections": [],
      "include_colab_link": true
    }
  },
  "cells": [
    {
      "cell_type": "markdown",
      "metadata": {
        "id": "view-in-github",
        "colab_type": "text"
      },
      "source": [
        "<a href=\"https://colab.research.google.com/github/yojhan-kiabet/tarea_01/blob/main/tarea%201_Notebook_00.ipynb\" target=\"_parent\"><img src=\"https://colab.research.google.com/assets/colab-badge.svg\" alt=\"Open In Colab\"/></a>"
      ]
    },
    {
      "cell_type": "markdown",
      "metadata": {
        "id": "kpQTIBfFnEO2"
      },
      "source": [
        "# Notebook_00 Prueba\n",
        "\n",
        "Este Notebook sólo es una herramienta de prueba.\n",
        "\n",
        "El objetivo es mostrar el uso de diferentes herramientas, entre las que destacan\n",
        "\n",
        "-> GitHub\n",
        "\n",
        "-> Google Colaboratory\n",
        "\n"
      ]
    },
    {
      "cell_type": "markdown",
      "metadata": {
        "id": "lnBJvGEL9y9X"
      },
      "source": [
        "problema 1       Fabiàn Lopez Yojhan Kiabet 2sv2"
      ]
    },
    {
      "cell_type": "code",
      "metadata": {
        "id": "lgceFyx0_ESl",
        "outputId": "319b2623-5870-437b-f6e5-fdada2ebe7e4",
        "colab": {
          "base_uri": "https://localhost:8080/"
        }
      },
      "source": [
        "numero = int(input(\"introduce un numero: \"))\n",
        "if numero/2 == 0 :\n",
        "  print(\"el numero \",numero,\"es par.\")\n",
        "else :\n",
        "    print(\"el numero\", numero,\"es impar.\")\n",
        "\n",
        "print(\"fin del programa.....................................................\")"
      ],
      "execution_count": null,
      "outputs": [
        {
          "output_type": "stream",
          "text": [
            "introduce un numero: 5\n",
            "el numero 5 es impar.\n",
            "fin del programa.....................................................\n"
          ],
          "name": "stdout"
        }
      ]
    },
    {
      "cell_type": "markdown",
      "metadata": {
        "id": "abK07jywloID"
      },
      "source": [
        "problema 2 "
      ]
    },
    {
      "cell_type": "code",
      "metadata": {
        "id": "Tx_qx-R5i24T",
        "outputId": "9b68be9d-706e-4ef4-f01a-62a855363513",
        "colab": {
          "base_uri": "https://localhost:8080/"
        }
      },
      "source": [
        "caracter = str(input(\"introduce una palabra: \"))\n",
        "repeticion = int(input(\"introduce el numero que desee que se repita el texto:\"))\n",
        "a = 0\n",
        "while ( a < repeticion):\n",
        "  a = a + 1\n",
        "  print(caracter)\n",
        "print(\"fin del programa.................................\")"
      ],
      "execution_count": null,
      "outputs": [
        {
          "output_type": "stream",
          "text": [
            "introduce una palabra: lol\n",
            "introduce el numero que desee que se repita el texto:5\n",
            "lol\n",
            "lol\n",
            "lol\n",
            "lol\n",
            "lol\n",
            "fin del programa.................................\n"
          ],
          "name": "stdout"
        }
      ]
    },
    {
      "cell_type": "markdown",
      "metadata": {
        "id": "8v2maiD3lj-0"
      },
      "source": [
        "problema 3"
      ]
    },
    {
      "cell_type": "markdown",
      "metadata": {
        "id": "EaZUvPxglYlY"
      },
      "source": [
        ""
      ]
    },
    {
      "cell_type": "code",
      "metadata": {
        "id": "NhJtvlV0ltDw",
        "outputId": "c4efbc08-99bd-4e47-8338-e773ef751b73",
        "colab": {
          "base_uri": "https://localhost:8080/"
        }
      },
      "source": [
        "a = int(input(\"introdusca sus horas de trabajo: \"))\n",
        "b = 150\n",
        "c = a*b\n",
        "d = a*5*b\n",
        "e = a*20*b \n",
        "print(\"salrio por dia: \",c)\n",
        "print(\"salario por una semana: \",d)\n",
        "print(\"salario por mes: \",e)"
      ],
      "execution_count": null,
      "outputs": [
        {
          "output_type": "stream",
          "text": [
            "introdusca sus horas de trebajo: 5\n",
            "salrio por dia:  750\n",
            "salario por una semana:  3750\n",
            "salario por mes:  15000\n"
          ],
          "name": "stdout"
        }
      ]
    },
    {
      "cell_type": "markdown",
      "metadata": {
        "id": "1tNIAbQ5zNvE"
      },
      "source": [
        "problema 4."
      ]
    },
    {
      "cell_type": "markdown",
      "metadata": {
        "id": "Kt91ckn9lS-k"
      },
      "source": [
        ""
      ]
    },
    {
      "cell_type": "code",
      "metadata": {
        "id": "tyMooyq9Y_70",
        "outputId": "dc433ee5-4377-4841-bc43-b3240231a0cf",
        "colab": {
          "base_uri": "https://localhost:8080/"
        }
      },
      "source": [
        "print(\"menu:\")\n",
        "print(\"1.suma\")\n",
        "print(\"2.resta\")\n",
        "print(\"3.multiplicacion\")\n",
        "print(\"4.division\")\n",
        "\n",
        "opc = int (input(\"digite la opcion:\"))\n",
        "\n",
        "if opc == 1 :\n",
        "  print(\"suma\")\n",
        "\n",
        "  a = float (input(\"ingrese el primer valor\"))\n",
        "  b = float (input(\"ingrese el segundo valor\"))\n",
        "  res = a + b\n",
        "\n",
        "  print(\"resultado de la suma:  = \", res ,\"\")\n",
        "\n",
        "if opc == 2 :\n",
        "  print(\"resta\")\n",
        "\n",
        "  a = float (input(\"ingrese el primer valor\"))\n",
        "  b = float (input(\"ingrese el segundo valor\"))\n",
        "  res = a - b\n",
        "\n",
        "  print(\"resultado de la resta: = \", res ,\"\")\n",
        "\n",
        "if opc == 3 :\n",
        "  print(\"multiplicacion\")\n",
        "\n",
        "  a = float (input(\"ingrese el primer valor\"))\n",
        "  b = float (input(\"ingrese el segundo valor\"))\n",
        "  res = a * b\n",
        "\n",
        "  print(\"resultado de la miltiplicacion: \", res ,\"\")\n",
        "\n",
        "if opc == 4 :\n",
        "  print(\"divicion\")\n",
        "\n",
        "  a = float (input(\"ingrese el primer valor\"))\n",
        "  b = float(input(\"ingrese el segundo valor\"))\n",
        "else:\n",
        " while  b==0:\n",
        "      b=float(input(\"ingrese b\"))\n",
        "      res = a / b\n",
        "      print(\"resultado de la divicion:  \", res ,\"\")\n",
        "print(\"fin del progrma.............\")"
      ],
      "execution_count": null,
      "outputs": [
        {
          "output_type": "stream",
          "text": [
            "menu:\n",
            "1.suma\n",
            "2.resta\n",
            "3.multiplicacion\n",
            "4.division\n",
            "digite la opcion:2\n",
            "resta\n",
            "ingrese el primer valor1\n",
            "ingrese el segundo valor2\n",
            "resultado de la resta: =  -1.0 \n",
            "fin del progrma.............\n"
          ],
          "name": "stdout"
        }
      ]
    },
    {
      "cell_type": "markdown",
      "metadata": {
        "id": "03S2nLmf2kdB"
      },
      "source": [
        "problema 5"
      ]
    },
    {
      "cell_type": "code",
      "metadata": {
        "id": "jXk4wIii7tAj"
      },
      "source": [
        ""
      ],
      "execution_count": null,
      "outputs": []
    },
    {
      "cell_type": "code",
      "metadata": {
        "id": "r0oDEKm_2iu_",
        "outputId": "94e35615-30d6-40e4-921c-116af7a648e1",
        "colab": {
          "base_uri": "https://localhost:8080/"
        }
      },
      "source": [
        "a=int(input(\"introduce el numero de payasos: \"))\n",
        "b= int(input(\"introduce el numero de juego de mesas \"))\n",
        "c = 150\n",
        "d = 170\n",
        "oper1 = a*c\n",
        "oper2 = b*d\n",
        "oper3 = oper1+oper2\n",
        "oper4 =oper3 -1000\n",
        "if oper3 > 1000 :\n",
        " print(\"error\")\n",
        " print(\"exeso de peso por = \",oper4,\"gr\")\n",
        "else :\n",
        "    print(\"pedido exitoso\") \n",
        "print(\"el peso de los payasos es de:\", oper1 ,\"gr\")\n",
        "print(\"el peso de los juegos de mesa es de:\", oper2,\"gr\")\n",
        "print(\"el peso total del pedido es de:\", oper3,\"gr\")\n",
        "print(\"fin del programa.........................\")"
      ],
      "execution_count": null,
      "outputs": [
        {
          "output_type": "stream",
          "text": [
            "introduce el numero de payasos: 10\n",
            "introduce el numero de juego de mesas 2\n",
            "error\n",
            "exeso de peso por =  840 gr\n",
            "el peso de los payasos es de: 1500 gr\n",
            "el peso de los juegos de mesa es de: 340 gr\n",
            "el peso total del pedido es de: 1840 gr\n",
            "fin del programa.........................\n"
          ],
          "name": "stdout"
        }
      ]
    },
    {
      "cell_type": "markdown",
      "metadata": {
        "id": "eVDEhu8i9Icp"
      },
      "source": [
        "problema 6"
      ]
    },
    {
      "cell_type": "code",
      "metadata": {
        "id": "sAQKlFAN9wrA",
        "outputId": "3b02b70e-d85c-4a57-c127-b2d743543471",
        "colab": {
          "base_uri": "https://localhost:8080/"
        }
      },
      "source": [
        "a = float (input(\"introdusca su salario: \"))\n",
        "\n",
        "def impuestos (salario):\n",
        "\n",
        "  if salario < 10000 :\n",
        "    \n",
        "    print(\"deduccion 5%\")\n",
        "    impuestoa = salario * (5/100)\n",
        "    print(\"descuento del salrio es de: \", impuestoa )\n",
        "    op1 = salario - impuestoa\n",
        "    print(\"total del salario: \", op1)\n",
        "  \n",
        "  if salario >=10000 and salario < 15000 :\n",
        "    print(\"deduccion 10%\")\n",
        "    impuestob = salario * (10/100)\n",
        "    print(\"descuento del salrio es de:\", impuestob )\n",
        "    op2 = salario - impuestob\n",
        "    print(\"total del salario: \", op2)\n",
        "  \n",
        "  if salario >=15000 and salario < 20000 :\n",
        "    print(\"deduccion 15%\")\n",
        "    impuestoc = salario * (15/100)\n",
        "    print(\"descuento del salrio es de:\", impuestoc )\n",
        "    op3 = salario - impuestoc\n",
        "    print(\"total del salario: \", op3)\n",
        "  \n",
        "  if salario >=20000 :\n",
        "    print(\"deduccion 18%\")\n",
        "    impuestod = salario * (18/100)\n",
        "    print(\"descuento del salrio es de:\", impuestod )\n",
        "    op4 = salario - impuestod\n",
        "    print(\"total del salario es de:\", op4)\n",
        "\n",
        "impuestos(a)    \n",
        "print(\"fin del programa..........................\")\n"
      ],
      "execution_count": null,
      "outputs": [
        {
          "output_type": "stream",
          "text": [
            "introdusca su salario: 2015\n",
            "deduccion 5%\n",
            "descuento del salrio es de:  100.75\n",
            "total del salario:  1914.25\n",
            "fin del programa..........................\n"
          ],
          "name": "stdout"
        }
      ]
    },
    {
      "cell_type": "markdown",
      "metadata": {
        "id": "9zSJqC16FPPV"
      },
      "source": [
        "problema 7\n"
      ]
    },
    {
      "cell_type": "code",
      "metadata": {
        "id": "zoBBXmivFYRb",
        "outputId": "f5917f75-69b5-442b-f48c-e16748f00c58",
        "colab": {
          "base_uri": "https://localhost:8080/"
        }
      },
      "source": [
        "a = int (input(\"ingrese su edad:\"))\n",
        "a=0\n",
        "b=0\n",
        "print(\"elija ocupacion\")\n",
        "print(\"1. estudiante con credencial\")\n",
        "print(\"2. docente con credencial\")\n",
        "print(\"3. INAPAM\")\n",
        "print(\"4. ninguna de las anteriores\")\n",
        "\n",
        "b = int (input(\"\"))\n",
        "def precio(edad, ocupacion):\n",
        "  if edad < 4 :\n",
        "    print(\"pase gratuito\")\n",
        "\n",
        "  if edad >= 4 and edad < 16:\n",
        "    print(\"el precio de entrada: $50\")\n",
        "\n",
        "    if ocupacion == 1 :\n",
        "      print(\"su descuento de estudiante es del: 10%\")\n",
        "      res1 = 50 * (10/100)\n",
        "      prec = 50 - res1\n",
        "      print(\"precio total a paga = $\", res)\n",
        "\n",
        "    if ocupacion == 2 :\n",
        "      print(\"su descuento de docente es del: 30%\")\n",
        "      res2 = 50 * (30/100)\n",
        "      prec1 = 50 - res2\n",
        "      print(\"precio total a pagra = $\", prec1)\n",
        "    \n",
        "    if ocupacion == 3 :\n",
        "      print(\"su descuento de estudiante es del: 50%\")\n",
        "      res3 = 50 * (50/100)\n",
        "      prec2 = 50 - res3\n",
        "      print(\"precio total a pagra = $\", prec2)\n",
        "\n",
        "    if ocupacion == 4 :\n",
        "      print(\"lo siento no se aplica ningun decuento a usted\")\n",
        "      print(\"precio total a pagra = $50\")\n",
        "\n",
        "  if edad > 16: \n",
        "    print(\"el precio de su entrada es de: $100\")\n",
        "\n",
        "    if ocupacion == 1 :\n",
        "      print(\"su descuento de estudiante es del: 10%\")\n",
        "      res1 = 100 * (10/100)\n",
        "      prec = 100 - res1\n",
        "      print(\"precio total a pagra = $\", prec)\n",
        "\n",
        "    if ocupacion == 2 :\n",
        "      print(\"su descuento de docente es del: 30%\")\n",
        "      res2 = 100 * (30/100)\n",
        "      prec1 = 100 - res2\n",
        "      print(\"precio total a pagra = $\", prec1)\n",
        "    \n",
        "    if ocupacion == 3 :\n",
        "      print(\"su descuento de estudiante es del: 50%\")\n",
        "      res3 = 100 * (50/100)\n",
        "      prec2 = 100 - res3\n",
        "      print(\"precio total a pagar = $\", prec2)\n",
        "\n",
        "    if ocupacion == 4 :\n",
        "      print(\"no hay descuento disponible para usted\")\n",
        "      print(\"precio total a pagra = $100\")\n",
        "precio (a, b)\n",
        "print(\"fin del programa\")"
      ],
      "execution_count": null,
      "outputs": [
        {
          "output_type": "stream",
          "text": [
            "ingrese la edad del visitante:50\n",
            "elija ocupacion\n",
            "1. estudiante con credencial\n",
            "2. docente con credencial\n",
            "3. INAPAM\n",
            "4. ninguna de las anteriores\n",
            "3\n",
            "pase gratuito\n",
            "fin del programa\n"
          ],
          "name": "stdout"
        }
      ]
    },
    {
      "cell_type": "markdown",
      "metadata": {
        "id": "Xq5dBvptFZZS"
      },
      "source": [
        "problema 8\n",
        "\n",
        "\n",
        "\n",
        "\n"
      ]
    },
    {
      "cell_type": "code",
      "metadata": {
        "id": "qPAJpSFJFaEO",
        "outputId": "560c3012-a910-4cc7-9db9-1aa422c9d267",
        "colab": {
          "base_uri": "https://localhost:8080/"
        }
      },
      "source": [
        "def triangulo(n):\n",
        "    return \"\\n\".join([\" \"*(n-i)+\"*\"*(+i-1) for i in range(1,n+1)])\n",
        "numero=int(input(\"introduce un numero: \"))\n",
        "print(triangulo(numero))"
      ],
      "execution_count": null,
      "outputs": [
        {
          "output_type": "stream",
          "text": [
            "introduce un numero: 5\n",
            "    \n",
            "   *\n",
            "  **\n",
            " ***\n",
            "****\n"
          ],
          "name": "stdout"
        }
      ]
    },
    {
      "cell_type": "markdown",
      "metadata": {
        "id": "LM0w923rJiOd"
      },
      "source": [
        "problema 9"
      ]
    },
    {
      "cell_type": "code",
      "metadata": {
        "id": "6dSCrwWOJkqV",
        "outputId": "4d543e25-2af7-4f68-acf3-a83d1b0902e8",
        "colab": {
          "base_uri": "https://localhost:8080/"
        }
      },
      "source": [
        "a = int (input(\"ingrese un numero: \"))\n",
        "def factorial(entero):\n",
        "  b = 1\n",
        "  fact = 1 \n",
        "  while b < entero  :\n",
        "    b = b + 1\n",
        "    fact = fact * b\n",
        "    res = fact\n",
        "\n",
        "  print(\"el resultado del factorial es: \", res)\n",
        "factorial(a)\n",
        "print(\"fin del programa........................................\")"
      ],
      "execution_count": null,
      "outputs": [
        {
          "output_type": "stream",
          "text": [
            "ingrese un numero: 6\n",
            "el resultado del factorial es:  720\n",
            "fin del programa........................................\n"
          ],
          "name": "stdout"
        }
      ]
    },
    {
      "cell_type": "markdown",
      "metadata": {
        "id": "TpjFkqubJlj8"
      },
      "source": [
        "problema 10"
      ]
    },
    {
      "cell_type": "code",
      "metadata": {
        "id": "4yRf_CdIJodI",
        "outputId": "14f913b4-6de4-418e-ae5d-14e5cec1f82c",
        "colab": {
          "base_uri": "https://localhost:8080/"
        }
      },
      "source": [
        "a = float (input(\"introdusca el radio del circulo: \"))\n",
        "b = float (input(\"introdusca la haltura del cilindro: \"))\n",
        "\n",
        "def area (rad):\n",
        "  area1 = (rad * rad) * 3.1416\n",
        "  print(\"el area del circulo es = \", area1)\n",
        "\n",
        "def volumen (altura, rad):\n",
        "  volumen1 = (rad**2) * 3.1416  * altura\n",
        "  print(\"el volumen del cilindro es = \", volumen1)\n",
        "area(a)\n",
        "volumen(b,a)\n",
        "print(\"fin del programa..............................................\")"
      ],
      "execution_count": null,
      "outputs": [
        {
          "output_type": "stream",
          "text": [
            "introdusca el radio del circulo: 15\n",
            "introdusca la haltura del cilindro: 10\n",
            "el area del circulo es =  706.86\n",
            "el volumen del cilindro es =  7068.6\n",
            "fin del programa..............................................\n"
          ],
          "name": "stdout"
        }
      ]
    }
  ]
}